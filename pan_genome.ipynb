{
 "cells": [
  {
   "cell_type": "code",
   "execution_count": 2,
   "metadata": {},
   "outputs": [],
   "source": [
    "# Import required libraries\n",
    "import pandas as pd\n",
    "import numpy as np\n",
    "import matplotlib.pyplot as plt\n",
    "import seaborn as sns\n",
    "import sys\n",
    "from sklearn.decomposition import PCA"
   ]
  },
  {
   "cell_type": "markdown",
   "metadata": {},
   "source": [
    "Increase recursion limit to handle large clustering tasks\n"
   ]
  },
  {
   "cell_type": "code",
   "execution_count": 3,
   "metadata": {},
   "outputs": [],
   "source": [
    "# Increase recursion limit to handle large clustering tasks\n",
    "sys.setrecursionlimit(5000)"
   ]
  },
  {
   "cell_type": "code",
   "execution_count": 9,
   "metadata": {},
   "outputs": [
    {
     "name": "stdout",
     "output_type": "stream",
     "text": [
      "Gene              tsaD  yqeY  rplX  rpsU  mdh  typA~~~lepA_1  rplQ  rpoA  \\\n",
      "001SaciDSM13117T     1     1     1     1    1              1     1     1   \n",
      "002SaciT0_18T        1     1     1     1    1              1     1     1   \n",
      "003SaciSPDF1         1     1     1     1    1              1     1     1   \n",
      "004SaciSUNEO         1     1     1     1    1              1     1     1   \n",
      "005SaciAPG1          1     1     1     1    1              1     1     1   \n",
      "\n",
      "Gene              rpsD  thrS  ...  group_16  group_13  group_12  group_11  \\\n",
      "001SaciDSM13117T     1     1  ...         0         0         0         0   \n",
      "002SaciT0_18T        1     1  ...         0         0         0         0   \n",
      "003SaciSPDF1         1     1  ...         0         0         0         0   \n",
      "004SaciSUNEO         1     1  ...         0         0         0         0   \n",
      "005SaciAPG1          1     1  ...         0         0         0         0   \n",
      "\n",
      "Gene              group_10  group_8  group_5  group_3  group_2  group_0  \n",
      "001SaciDSM13117T         0        0        0        0        0        0  \n",
      "002SaciT0_18T            0        0        0        0        0        0  \n",
      "003SaciSPDF1             0        0        0        0        0        0  \n",
      "004SaciSUNEO             0        0        0        0        0        0  \n",
      "005SaciAPG1              0        0        0        0        0        0  \n",
      "\n",
      "[5 rows x 50055 columns]\n"
     ]
    }
   ],
   "source": [
    "# Load the gene presence/absence CSV file\n",
    "gene_presence_absence_df = pd.read_csv('Data/gene_presence_absence_panaroo.csv', index_col=0, low_memory=False)\n",
    "\n",
    "# Transpose the dataframe to have genomes as rows and genes as columns\n",
    "data_only_df = gene_presence_absence_df.iloc[:, 2:].T\n",
    "\n",
    "# Convert presence/absence data to binary (1 if present, 0 if absent)\n",
    "data_binary_df = data_only_df.notna().astype(int)\n",
    "\n",
    "print(data_binary_df.head())\n"
   ]
  },
  {
   "cell_type": "markdown",
   "metadata": {},
   "source": [
    "CREATE CLUSTERMAP"
   ]
  },
  {
   "cell_type": "code",
   "execution_count": 10,
   "metadata": {},
   "outputs": [
    {
     "name": "stderr",
     "output_type": "stream",
     "text": [
      "c:\\Users\\josel\\Desktop\\PlotsSteno\\.venv\\Lib\\site-packages\\seaborn\\matrix.py:560: UserWarning: Clustering large matrix with scipy. Installing `fastcluster` may give better performance.\n",
      "  warnings.warn(msg)\n"
     ]
    }
   ],
   "source": [
    "# Create a clustermap, removing the dendrogram above and the names below\n",
    "clustermap = sns.clustermap(\n",
    "    data_binary_df,\n",
    "    cmap='Blues',  # Choose a color palette\n",
    "    figsize=(20, 30),  # Set figure size\n",
    "    row_cluster=True,  # Cluster rows\n",
    "    col_cluster=False,  # Do not cluster columns\n",
    "    dendrogram_ratio=(.2, 0),  # Adjust the ratio of the dendrogram\n",
    "    method='average',  # Linkage method to avoid deep recursion with large matrices\n",
    ")\n",
    "\n",
    "# Remove the names below (column labels) and above (column dendrogram)\n",
    "clustermap.ax_heatmap.set_xticklabels([])  # Remove the names below the heatmap\n",
    "\n",
    "# Remove the color bar (legend)\n",
    "clustermap.cax.set_visible(False)\n",
    "\n",
    "# Adjust row labels to make them readable, if necessary\n",
    "clustermap.ax_heatmap.set_yticklabels(\n",
    "    clustermap.ax_heatmap.get_yticklabels(), fontsize=10, rotation=0)\n",
    "\n",
    "# Save the clustermap to a file\n",
    "clustermap.savefig(\"Outputs/gene_presence_absence_clustermap.png\", dpi=300)\n",
    "\n",
    "plt.close()  # Close the plot to free up memory"
   ]
  },
  {
   "cell_type": "markdown",
   "metadata": {},
   "source": [
    "PAN-GENOME ANALYSIS"
   ]
  },
  {
   "cell_type": "code",
   "execution_count": 14,
   "metadata": {},
   "outputs": [
    {
     "name": "stdout",
     "output_type": "stream",
     "text": [
      "Pan-genome size: 50055\n",
      "Core genes (99% <= strains <= 100%): 57\n",
      "Soft core genes (95% <= strains < 99%): 149\n",
      "Shell genes (15% <= strains < 95%): 4155\n",
      "Cloud genes (1% <= strains < 15%): 24777\n",
      "Unique genes (present in only 1 strain): 20917\n",
      "Unique genes per genome have been saved to 'unique_genes_per_genome.csv'\n"
     ]
    }
   ],
   "source": [
    "# Calculate the number of genomes\n",
    "num_genomes = data_binary_df.shape[0]\n",
    "\n",
    "# Core Genes: present in 99% to 100% of strains\n",
    "core_genes = data_binary_df.columns[(data_binary_df.sum(axis=0) / num_genomes >= 0.99)].size\n",
    "\n",
    "# Soft Core Genes: present in 95% to 99% of strains\n",
    "soft_core_genes = data_binary_df.columns[(data_binary_df.sum(axis=0) / num_genomes >= 0.95) & (data_binary_df.sum(axis=0) / num_genomes < 0.99)].size\n",
    "\n",
    "# Shell Genes: present in 15% to 95% of strains\n",
    "shell_genes = data_binary_df.columns[(data_binary_df.sum(axis=0) / num_genomes >= 0.15) & (data_binary_df.sum(axis=0) / num_genomes < 0.95)].size\n",
    "\n",
    "# Cloud Genes: present in 1% to 15% of strains\n",
    "cloud_genes = data_binary_df.columns[(data_binary_df.sum(axis=0) / num_genomes >= 0.01) & (data_binary_df.sum(axis=0) / num_genomes < 0.15)].size\n",
    "\n",
    "# Unique Genes: present in only 1 strain\n",
    "unique_genes = data_binary_df.columns[(data_binary_df.sum(axis=0) == 1)].size\n",
    "\n",
    "# Total number of orthologous groups (Pan-genome size)\n",
    "pan_genome = data_binary_df.shape[1]\n",
    "\n",
    "# Count unique genes per genome (sum rows where the column sum is 1)\n",
    "unique_genes_per_genome = data_binary_df.loc[:, data_binary_df.sum(axis=0) == 1].sum(axis=1)\n",
    "\n",
    "# Convert to DataFrame for exporting\n",
    "unique_genes_df = pd.DataFrame({\n",
    "    'Genome': data_binary_df.index,\n",
    "    'Unique_Genes_Count': unique_genes_per_genome\n",
    "})\n",
    "\n",
    "# Save the unique gene counts to a CSV file\n",
    "unique_genes_df.to_csv('unique_genes_per_genome.csv', index=False)\n",
    "\n",
    "# If you prefer Excel, use the following:\n",
    "# unique_genes_df.to_excel('unique_genes_per_genome.xlsx', index=False)\n",
    "\n",
    "# Print the pan-genome values including unique genes\n",
    "print(f\"Pan-genome size: {pan_genome}\")\n",
    "print(f\"Core genes (99% <= strains <= 100%): {core_genes}\")\n",
    "print(f\"Soft core genes (95% <= strains < 99%): {soft_core_genes}\")\n",
    "print(f\"Shell genes (15% <= strains < 95%): {shell_genes}\")\n",
    "print(f\"Cloud genes (1% <= strains < 15%): {cloud_genes}\")\n",
    "print(f\"Unique genes (present in only 1 strain): {unique_genes}\")\n",
    "print(f\"Unique genes per genome have been saved to 'unique_genes_per_genome.csv'\")\n"
   ]
  },
  {
   "cell_type": "markdown",
   "metadata": {},
   "source": [
    "PAN VS CORE GENOME"
   ]
  },
  {
   "cell_type": "code",
   "execution_count": 16,
   "metadata": {},
   "outputs": [],
   "source": [
    "def calculate_pan_core_genome(df, iterations=500):\n",
    "    genomes = df.index.tolist()\n",
    "    core_genome_sizes_list = []\n",
    "    pan_genome_sizes_list = []\n",
    "\n",
    "    for _ in range(iterations):\n",
    "        np.random.shuffle(genomes)  # Shuffle genomes in random order\n",
    "        core_genome_sizes = []\n",
    "        pan_genome_sizes = []\n",
    "        core_genome = set(df.columns)  # Initially assume all orthologs are part of the core\n",
    "        pan_genome = set()  # Initially empty pan-genome\n",
    "\n",
    "        for i, genome in enumerate(genomes, start=1):\n",
    "            genome_orthologs = set(df.columns[df.loc[genome] == 1])\n",
    "            core_genome = core_genome.intersection(genome_orthologs)\n",
    "            pan_genome = pan_genome.union(genome_orthologs)\n",
    "            core_genome_sizes.append(len(core_genome))\n",
    "            pan_genome_sizes.append(len(pan_genome))\n",
    "\n",
    "        core_genome_sizes_list.append(core_genome_sizes)\n",
    "        pan_genome_sizes_list.append(pan_genome_sizes)\n",
    "\n",
    "    # Convert lists to arrays for easier calculation of mean and std\n",
    "    core_genome_sizes_array = np.array(core_genome_sizes_list)\n",
    "    pan_genome_sizes_array = np.array(pan_genome_sizes_list)\n",
    "\n",
    "    core_genome_mean = core_genome_sizes_array.mean(axis=0)\n",
    "    core_genome_std = core_genome_sizes_array.std(axis=0)\n",
    "\n",
    "    pan_genome_mean = pan_genome_sizes_array.mean(axis=0)\n",
    "    pan_genome_std = pan_genome_sizes_array.std(axis=0)\n",
    "\n",
    "    return core_genome_mean, core_genome_std, pan_genome_mean, pan_genome_std\n",
    "\n",
    "# Calculate the pan-genome and core-genome sizes with bootstrapping\n",
    "core_genome_mean, core_genome_std, pan_genome_mean, pan_genome_std = calculate_pan_core_genome(data_binary_df)\n",
    "\n",
    "# Generate a plot for pan-genome and core-genome size evolution with error bars\n",
    "plt.figure(figsize=(10, 6))\n",
    "\n",
    "# Plot Core Genome Curve with error bars\n",
    "plt.errorbar(range(1, len(core_genome_mean) + 1), core_genome_mean, yerr=core_genome_std, label='Core Genome',\n",
    "             color='#2ca02c', marker='o', capsize=4)\n",
    "\n",
    "# Plot Pan-Genome Curve with error bars\n",
    "plt.errorbar(range(1, len(pan_genome_mean) + 1), pan_genome_mean, yerr=pan_genome_std, label='Pan-Genome',\n",
    "             color='#1f77b4', marker='o', capsize=4)\n",
    "\n",
    "# Plot formatting\n",
    "plt.xlabel(\"Nr. of Genomes\")\n",
    "plt.ylabel(\"Nr. of Genes\")\n",
    "plt.legend()\n",
    "\n",
    "# Save the plot instead of showing it\n",
    "plt.savefig(\"Outputs/pan_core_genome_evolution.png\", dpi=300)\n",
    "plt.close()\n"
   ]
  }
 ],
 "metadata": {
  "kernelspec": {
   "display_name": ".venv",
   "language": "python",
   "name": "python3"
  },
  "language_info": {
   "codemirror_mode": {
    "name": "ipython",
    "version": 3
   },
   "file_extension": ".py",
   "mimetype": "text/x-python",
   "name": "python",
   "nbconvert_exporter": "python",
   "pygments_lexer": "ipython3",
   "version": "3.12.3"
  }
 },
 "nbformat": 4,
 "nbformat_minor": 2
}
